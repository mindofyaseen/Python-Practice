{
 "cells": [
  {
   "cell_type": "markdown",
   "metadata": {},
   "source": [
    "1) A company decided to give bonus of 5% to employee if his/her year of service is more than 5 years.\n",
    "Ask user for their salary and year of service and print the net bonus amount."
   ]
  },
  {
   "cell_type": "code",
   "execution_count": 1,
   "metadata": {},
   "outputs": [
    {
     "name": "stdout",
     "output_type": "stream",
     "text": [
      "Your Salary Increment : 50000.0\n",
      "Total Salary : 1000000\n"
     ]
    }
   ],
   "source": [
    "#Type your code here\n",
    "\n",
    "company_bouns = 5\n",
    "\n",
    "year_of_service = int(input(\"Enter Your Year of Service : \"))\n",
    "\n",
    "if year_of_service >= 5:\n",
    "    current_salary = int(input(\"Enter Your Current Salary : \"))\n",
    "    incremented_salary = ( current_salary * company_bouns ) / 100\n",
    "    next_salary = incremented_salary+current_salary\n",
    "    print(f\"Your Salary Increment : {incremented_salary}\")\n",
    "    \n",
    "    print(f\"Total Salary : {current_salary}\")\n",
    "else:\n",
    "    print(\"You are not Eligible for the Comapny's Bouns\")"
   ]
  },
  {
   "cell_type": "markdown",
   "metadata": {},
   "source": [
    "\n",
    "2) Write a program to check whether a person is eligible for voting or not. (accept age from user) if age is greater than 17 eligible otherwise not eligible"
   ]
  },
  {
   "cell_type": "code",
   "execution_count": null,
   "metadata": {},
   "outputs": [],
   "source": [
    "#Type your code here\n",
    "\n",
    "age = int(input(\"Enter Your Age : \"))\n",
    "\n",
    "if age >= 17:\n",
    "    print(\"You are Eligible for Voting\")\n",
    "else:\n",
    "    print(\"You are not Eligible for Voting\")"
   ]
  },
  {
   "cell_type": "markdown",
   "metadata": {},
   "source": [
    "\n",
    "3) Write a program to check whether a number entered by user is even or odd."
   ]
  },
  {
   "cell_type": "code",
   "execution_count": null,
   "metadata": {},
   "outputs": [],
   "source": [
    "#Type your code here\n",
    "\n",
    "number = int(input(\"Enter any Number : \"))\n",
    "\n",
    "if number % 2 == 0:\n",
    "    print(\"Number is Even\")\n",
    "else:\n",
    "    print(\"Number is Odd\")"
   ]
  },
  {
   "cell_type": "markdown",
   "metadata": {},
   "source": [
    "4) Write a program to check whether a number is divisible by 7 or not.\n",
    "Show Answer"
   ]
  },
  {
   "cell_type": "code",
   "execution_count": null,
   "metadata": {},
   "outputs": [],
   "source": [
    "#Type your code here\n",
    "\n",
    "number = int(input(\"Enter any Number : \"))\n",
    "number_for_division = 7\n",
    "\n",
    "if number % number_for_division == 0:\n",
    "    print(\"Number is Divisible with 7\")\n",
    "else:\n",
    "    print(\"Number is not Divisible by 7\")"
   ]
  },
  {
   "cell_type": "markdown",
   "metadata": {},
   "source": [
    "5) Write a program to display \n",
    "\"Hello\" if a number entered by user is a multiple of five , otherwise print \"Bye\"."
   ]
  },
  {
   "cell_type": "code",
   "execution_count": null,
   "metadata": {},
   "outputs": [],
   "source": [
    "#Type your code here\n",
    "\n",
    "number = int(input(\"Enter any Number\"))\n",
    "\n",
    "if number % 5 == 0:\n",
    "    print(\"Hello\")\n",
    "else:\n",
    "    print(\"Bye\")"
   ]
  },
  {
   "cell_type": "markdown",
   "metadata": {},
   "source": [
    "7) Write a program to display the last digit of a number.\n"
   ]
  },
  {
   "cell_type": "code",
   "execution_count": null,
   "metadata": {},
   "outputs": [],
   "source": [
    "#Type your code here\n",
    "\n",
    "number = input(\"Enter any Number\")\n",
    "print(f\"The Last Digit of Your input Number is : {number[-1]}\")"
   ]
  },
  {
   "cell_type": "markdown",
   "metadata": {},
   "source": [
    "9) Take values of length and breadth of a rectangle from user and print if it is square or rectangle."
   ]
  },
  {
   "cell_type": "code",
   "execution_count": null,
   "metadata": {},
   "outputs": [],
   "source": [
    "#Type your code here \n",
    "\n",
    "length = int(input(\"Enter the Length of Your Object : \"))\n",
    "breadth = int(input(\"Enter the Breadth of Your Object : \"))\n",
    "\n",
    "if length == breadth:\n",
    "    print(\"Your Object is Square\")\n",
    "elif breadth >= length:\n",
    "    print(\"Your Object is Rectangle\")\n",
    "else:\n",
    "    print(\"Your Object is Rectangle\")"
   ]
  },
  {
   "cell_type": "markdown",
   "metadata": {},
   "source": [
    "10) Take two int values from user and print greatest among them."
   ]
  },
  {
   "cell_type": "code",
   "execution_count": null,
   "metadata": {},
   "outputs": [],
   "source": [
    "# Type your code here\n",
    "\n",
    "first_number = int(input(\"Enter the First Number : \"))\n",
    "second_number = int(input(\"Enter the Second Number : \"))\n",
    "\n",
    "if first_number > second_number:\n",
    "    print(f\"The Biggest Number You Entered is : {first_number}\")\n",
    "elif second_number > first_number:\n",
    "    print(f\"The Biggest Number You Entered is : {second_number}\")\n",
    "else:\n",
    "    print(\"Both are Equal Numbers\")"
   ]
  },
  {
   "cell_type": "markdown",
   "metadata": {},
   "source": [
    "11) A shop will give discount of 10% if the cost of purchased quantity is more than 1000.\n",
    "Ask user for quantity\n",
    "Suppose, one unit will cost 100.\n",
    "Judge and print total cost for user."
   ]
  },
  {
   "cell_type": "code",
   "execution_count": null,
   "metadata": {},
   "outputs": [],
   "source": [
    "#Type your code here\n",
    "\n",
    "cost_per_item = 100\n",
    "\n",
    "quantity = int(input(\"Enter the Quantity : \"))\n",
    "total = quantity * cost_per_item\n",
    "\n",
    "if quantity > 1000:\n",
    "    discount_percentage = 10\n",
    "    discount = ( total * discount_percentage ) / 100\n",
    "    final_price = total - discount\n",
    "    print(f\"Thank you for Shopping \\n Discount of {discount} is applied \\n {final_price}\")\n",
    "else:\n",
    "    print(f\"Thank you for Shopping \\n Discount is not applied \\n {total}\")"
   ]
  },
  {
   "cell_type": "markdown",
   "metadata": {},
   "source": [
    "12) A school has following rules for grading system:\n",
    "\n",
    "a. Below 25 - F\n",
    "\n",
    "b. 25 to 45 - E\n",
    "\n",
    "c. 45 to 50 - D\n",
    "\n",
    "d. 50 to 60 - C\n",
    "\n",
    "e. 60 to 80 - B\n",
    "\n",
    "f. Above 80 - A\n",
    "\n",
    "Ask user to enter marks and print the corresponding grade."
   ]
  },
  {
   "cell_type": "code",
   "execution_count": null,
   "metadata": {},
   "outputs": [],
   "source": [
    "#Type your code here\n",
    "\n",
    "english_marks = int(input(\"Enter Your English Marks : \"))\n",
    "urdu_marks = int(input(\"Enter Your Urdu Marks : \"))\n",
    "maths_marks = int(input(\"Enter Your Maths Marks :\"))\n",
    "\n",
    "obtained_marks = english_marks + urdu_marks + maths_marks\n",
    "number_of_subjects = 3\n",
    "total_marks = number_of_subjects * 100\n",
    "percentage = ( obtained_marks * 100 ) / total_marks\n",
    "\n",
    "if percentage > 80 and percentage< 100 :\n",
    "    Grade = \"A\"\n",
    "elif percentage > 60 and percentage < 80 :\n",
    "    Grade = \"B\"\n",
    "elif percentage > 40 and percentage < 60 :\n",
    "    Grade = \"C\"\n",
    "elif percentage > 45 and percentage < 50 :\n",
    "    Grade = \"D\"\n",
    "elif percentage > 25 and percentage < 45 :\n",
    "    Grade = \"E\"\n",
    "else:\n",
    "    Grade = \"F\"\n",
    "print(Grade)"
   ]
  },
  {
   "cell_type": "markdown",
   "metadata": {},
   "source": [
    "14)A student will not be allowed to sit in exam if his/her attendence is less than 75%.\n",
    "\n",
    "Take following input from user\n",
    "\n",
    "Number of classes held\n",
    "\n",
    "Number of classes attended.\n",
    "\n",
    "And print\n",
    "\n",
    "percentage of class attended\n",
    "\n",
    "Is student is allowed to sit in exam or not.\n"
   ]
  },
  {
   "cell_type": "code",
   "execution_count": null,
   "metadata": {},
   "outputs": [],
   "source": [
    "#Type your code here\n",
    "\n",
    "number_of_classes_held = int(input(\"Enter the Classes that are Held : \"))\n",
    "attended_classes = int(input('Enter the Classes that you attended : '))\n",
    "percentage = attended_classes * 100 / number_of_classes_held\n",
    "\n",
    "print(f\"The Percentage of Classes you attended are : {percentage}\")\n",
    "if percentage > 75:\n",
    "    print(\"You are Allowed to sit in class\")\n",
    "else:\n",
    "    print(\"You are not Allowed to sit in class\")"
   ]
  },
  {
   "cell_type": "markdown",
   "metadata": {},
   "source": [
    "15) Modify the above question to allow student to sit if he/she has medical cause. Ask user if he/she has medical cause or not ( 'Y' or 'N' ) and print accordingly."
   ]
  },
  {
   "cell_type": "code",
   "execution_count": null,
   "metadata": {},
   "outputs": [],
   "source": [
    "#Type your code here\n",
    "\n",
    "percentage = int(input(\"Enter the Percentage of the Classes You attended\"))\n",
    "if percentage > 75:\n",
    "    print(\"You are Allowed to sit in the Class\")\n",
    "else:\n",
    "    print(\"Are you suffering from the medical condition? \")\n",
    "    user_input = input(\"Enter the Y or N\")\n",
    "    if user_input == \"Y\":\n",
    "        print(\"You are Eligible to Sit in the Class\")\n",
    "    elif user_input == \"N\":\n",
    "        print(\"You are Not Eligible to Sit in the Class\")\n",
    "    else:\n",
    "        print(\"You Entered Something Wrong Kindly Enter Again or You are not allowed to sit in the Class\")"
   ]
  },
  {
   "cell_type": "markdown",
   "metadata": {},
   "source": [
    "16) Write a program to check if a year is leap year or not.\n",
    "\n",
    "If a year is divisible by 4 then it is leap year but if the year is century year like 2000, 1900, 2100 then it must be divisible by 400."
   ]
  },
  {
   "cell_type": "code",
   "execution_count": null,
   "metadata": {},
   "outputs": [],
   "source": [
    "#Type your code here\n",
    "\n",
    "year = int(input(\"Enter the Year\"))\n",
    "\n",
    "if year % 4 == 0 or year % 400 == 0:\n",
    "    print(\"Its a Leap Year\")\n",
    "else:\n",
    "    print(\"Its not a Leap Year\")"
   ]
  },
  {
   "cell_type": "markdown",
   "metadata": {},
   "source": [
    "17) Ask user to enter age, gender ( M or F ), marital status ( Y or N ) and then using following rules print their place of service.\n",
    "\n",
    "if employee is female, then she will work only in urban areas.\n",
    "\n",
    "if employee is a male and age is in between 20 to 40 then he may work in anywhere\n",
    "\n",
    "if employee is male and age is in between 40 t0 60 then he will work in urban areas only.\n",
    "\n",
    "And any other input of age should print \"ERROR\""
   ]
  },
  {
   "cell_type": "code",
   "execution_count": null,
   "metadata": {},
   "outputs": [],
   "source": [
    "#Type your code here\n",
    "\n",
    "gender = input(\"Enter Your Gender , Options: (M or F) \")\n",
    "martial_status = input(\"Enter Your Martial Status , Options: (Y or N) \")\n",
    "age = int(input(\"Enter Your Age : \"))\n",
    "\n",
    "if gender == \"F\":\n",
    "    work = \"Urban Areas\"\n",
    "elif gender == \"M\" and age >= 20 and age <= 40:\n",
    "    work = \"AnyWhere\"\n",
    "elif gender == \"M\" and age >= 40 and age <= 60:\n",
    "    work = \"Urban Areas\"\n",
    "else:\n",
    "    print(\"ERROR\")\n",
    "print(f\"{work}\")"
   ]
  },
  {
   "cell_type": "markdown",
   "metadata": {},
   "source": [
    "6) Write a program to calculate the electricity bill (accept number of unit from user) according to the following criteria :\n",
    "     Unit                                                     Price  \n",
    "uptp 100 units                                             no charge\n",
    "Next 200 units                                              Rs 5 per unit\n",
    "After 200 units                                             Rs 10 per unit\n",
    "(For example if input unit is 350 than total bill amount is Rs.3500\n",
    "(For example if input unit is 97 than total bill amount is Rs.0\n",
    "(For example if input unit is 150 than total bill amount is Rs.750"
   ]
  },
  {
   "cell_type": "markdown",
   "metadata": {},
   "source": [
    "13) Take input of age of 3 people by user and determine oldest and youngest among them."
   ]
  },
  {
   "cell_type": "code",
   "execution_count": null,
   "metadata": {},
   "outputs": [],
   "source": [
    "#Type your code here\n",
    "\n",
    "number_of_units = int(input(\"Enter Your Monthly Units: \"))\n",
    "\n",
    "if number_of_units < 100:\n",
    "    total = 0\n",
    "elif number_of_units <= 200:\n",
    "    total = number_of_units * 5\n",
    "elif number_of_units > 300:\n",
    "    total = number_of_units * 10\n",
    "else:\n",
    "    print(\"You Entered Something Wrong\")\n",
    "print(total)"
   ]
  }
 ],
 "metadata": {
  "kernelspec": {
   "display_name": "cloud-data-engineering",
   "language": "python",
   "name": "python3"
  },
  "language_info": {
   "codemirror_mode": {
    "name": "ipython",
    "version": 3
   },
   "file_extension": ".py",
   "mimetype": "text/x-python",
   "name": "python",
   "nbconvert_exporter": "python",
   "pygments_lexer": "ipython3",
   "version": "3.13.5"
  }
 },
 "nbformat": 4,
 "nbformat_minor": 2
}
