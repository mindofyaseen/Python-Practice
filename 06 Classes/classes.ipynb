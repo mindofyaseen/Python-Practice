{
 "cells": [
  {
   "cell_type": "markdown",
   "id": "292f1438",
   "metadata": {},
   "source": [
    "1. Write a Python program to create a class representing a Circle. Include methods to calculate its area and perimeter."
   ]
  },
  {
   "cell_type": "code",
   "execution_count": 3,
   "id": "1d87d0d7",
   "metadata": {},
   "outputs": [
    {
     "name": "stdout",
     "output_type": "stream",
     "text": [
      "7853.981633974483\n",
      "314.1592653589793\n"
     ]
    }
   ],
   "source": [
    "import math\n",
    "\n",
    "class Circle:\n",
    "    def __init__(self,radius):\n",
    "        self.radius = radius\n",
    "\n",
    "    def area(self):\n",
    "        return (math.pi)*(self.radius**2)\n",
    "    \n",
    "    def perimeter(self):\n",
    "        return 2*(math.pi)*(self.radius)\n",
    "\n",
    "circle = Circle(50)\n",
    "print(circle.area())\n",
    "print(circle.perimeter())"
   ]
  },
  {
   "cell_type": "markdown",
   "id": "d5a30680",
   "metadata": {},
   "source": [
    "2. Write a Python program to create a person class. Include attributes like name, country and date of birth. Implement a method to determine the person's age."
   ]
  },
  {
   "cell_type": "code",
   "execution_count": 19,
   "id": "a732643f",
   "metadata": {},
   "outputs": [
    {
     "name": "stdout",
     "output_type": "stream",
     "text": [
      "Age: 19\n"
     ]
    }
   ],
   "source": [
    "from datetime import date\n",
    "\n",
    "class Person:\n",
    "    def __init__(self, name, country, dob):\n",
    "        self.name = name\n",
    "        self.country = country\n",
    "        self.dob = dob\n",
    "\n",
    "    def get_age(self):\n",
    "        today = date.today()\n",
    "        age = today.year - self.dob.year - ((today.month, today.day) < (self.dob.month, self.dob.day))\n",
    "        return age\n",
    "\n",
    "dob = date(2006, 9, 6)   \n",
    "p1 = Person(\"Ali\", \"Pakistan\", dob)\n",
    "\n",
    "print(\"Age:\", p1.get_age())\n"
   ]
  },
  {
   "cell_type": "markdown",
   "id": "1bdf910b",
   "metadata": {},
   "source": [
    "3. Write a Python program to create a calculator class. Include methods for basic arithmetic operations."
   ]
  },
  {
   "cell_type": "code",
   "execution_count": 14,
   "id": "6fe5595d",
   "metadata": {},
   "outputs": [
    {
     "data": {
      "text/plain": [
       "3"
      ]
     },
     "execution_count": 14,
     "metadata": {},
     "output_type": "execute_result"
    }
   ],
   "source": [
    "class Calculator:\n",
    "    def __init__(self,num1,num2,operation):\n",
    "        self.num1 = num1\n",
    "        self.num2 = num2\n",
    "        self.operation = operation\n",
    "\n",
    "    def execute(self):\n",
    "        if self.operation == \"+\":\n",
    "            return self.num1 + self.num2\n",
    "        elif self.operation == \"-\":\n",
    "            return self.num1 - self.num2\n",
    "        elif self.operation == \"*\":\n",
    "            return self.num1 * self.num2\n",
    "        elif self.operation == \"/\":\n",
    "            if self.num2 != 0:\n",
    "                return self.num1 / self.num2\n",
    "            else:\n",
    "                return \"The Divident must not be equals to 0\"\n",
    "        else:\n",
    "            return \"Invalid Operator\"\n",
    "        \n",
    "calculator = Calculator(1,2,\"+\")\n",
    "calculator.execute()"
   ]
  }
 ],
 "metadata": {
  "kernelspec": {
   "display_name": "cloud-data-engineering",
   "language": "python",
   "name": "python3"
  },
  "language_info": {
   "codemirror_mode": {
    "name": "ipython",
    "version": 3
   },
   "file_extension": ".py",
   "mimetype": "text/x-python",
   "name": "python",
   "nbconvert_exporter": "python",
   "pygments_lexer": "ipython3",
   "version": "3.13.5"
  }
 },
 "nbformat": 4,
 "nbformat_minor": 5
}
