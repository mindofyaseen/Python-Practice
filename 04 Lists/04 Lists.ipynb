{
 "cells": [
  {
   "cell_type": "markdown",
   "id": "5016418a",
   "metadata": {},
   "source": [
    "1. Write a program that accepts a list from user and print the alternate element of list."
   ]
  },
  {
   "cell_type": "code",
   "execution_count": 6,
   "id": "a8974d0a",
   "metadata": {},
   "outputs": [
    {
     "name": "stdout",
     "output_type": "stream",
     "text": [
      "The list is: ['muhammad', 'yaseen', 'hey', 'hello', 'bye']\n",
      "['muhammad', 'hey', 'bye']\n"
     ]
    }
   ],
   "source": [
    "user_input = input(\"Enter list items seperated by space\")\n",
    "my_list = user_input.split() \n",
    "print(\"The list is:\", my_list)\n",
    "print(my_list[::2])"
   ]
  },
  {
   "cell_type": "markdown",
   "id": "4c8c7606",
   "metadata": {},
   "source": [
    "2. Write a program that accepts a list from user. Your program should reverse the content of list and \n",
    "display it. Do not use reverse() method.  "
   ]
  },
  {
   "cell_type": "code",
   "execution_count": null,
   "id": "e54f1e63",
   "metadata": {},
   "outputs": [
    {
     "name": "stdout",
     "output_type": "stream",
     "text": [
      "The list is: ['bye', 'hello', 'hey', 'yaseen', 'muhamamd']\n"
     ]
    }
   ],
   "source": [
    "user_input = input(\"Enter list items seperated by space\")\n",
    "my_list = user_input.split() \n",
    "print(\"The reversed list is:\", my_list[::-1])"
   ]
  },
  {
   "cell_type": "markdown",
   "id": "d136ca26",
   "metadata": {},
   "source": [
    "3. Find and display the largest number of a list without using built-in function max(). Your program \n",
    "should ask the user to input values in list from keyboard. "
   ]
  },
  {
   "cell_type": "code",
   "execution_count": 11,
   "id": "39f63564",
   "metadata": {},
   "outputs": [
    {
     "name": "stdout",
     "output_type": "stream",
     "text": [
      "90\n"
     ]
    }
   ],
   "source": [
    "user_input = input(\"Enter list items seperated by space\")\n",
    "my_list = user_input.split()\n",
    "\n",
    "largest = my_list[0]\n",
    "\n",
    "for num in my_list:\n",
    "    if num > largest:\n",
    "        largest = num\n",
    "print(largest)"
   ]
  },
  {
   "cell_type": "markdown",
   "id": "0b2e1dd9",
   "metadata": {},
   "source": [
    "4. Write a program that rotates the element of a list so that the element at the first index moves to the \n",
    "second index, the element in the second index moves to the third index, etc., and the element in the last \n",
    "index moves to the first index. "
   ]
  },
  {
   "cell_type": "code",
   "execution_count": 13,
   "id": "7dd3ad05",
   "metadata": {},
   "outputs": [
    {
     "name": "stdout",
     "output_type": "stream",
     "text": [
      "['3', '1', '2']\n"
     ]
    }
   ],
   "source": [
    "user_input = input(\"Enter list items seperated by space\")\n",
    "my_list = user_input.split()\n",
    "\n",
    "last_element = my_list[-1]\n",
    "\n",
    "shifted_list = [last_element] + my_list[:-1]\n",
    "\n",
    "print(shifted_list)"
   ]
  },
  {
   "cell_type": "markdown",
   "id": "885b3c7d",
   "metadata": {},
   "source": [
    "5. Write a program that input a string and ask user to delete a given word from a string."
   ]
  },
  {
   "cell_type": "code",
   "execution_count": 14,
   "id": "124f0c10",
   "metadata": {},
   "outputs": [
    {
     "name": "stdout",
     "output_type": "stream",
     "text": [
      "yaseen\n"
     ]
    }
   ],
   "source": [
    "user_input = input(\"Enter Anything : \")\n",
    "\n",
    "word_to_delete = input(\"Enter the Word to Delete : \")\n",
    "\n",
    "updated_str = user_input.replace(word_to_delete, \"\")\n",
    "\n",
    "print(updated_str)"
   ]
  },
  {
   "cell_type": "markdown",
   "id": "ea40f744",
   "metadata": {},
   "source": [
    "6. Write a program that reads a string from the user containing a date in the form mm/dd/yyyy. It \n",
    "should print the date in the form March 12, 2021. "
   ]
  },
  {
   "cell_type": "code",
   "execution_count": 16,
   "id": "2bf78ba3",
   "metadata": {},
   "outputs": [
    {
     "name": "stdout",
     "output_type": "stream",
     "text": [
      "September 6, 2006\n"
     ]
    }
   ],
   "source": [
    "date_str = input(\"Date (mm/dd/yyyy): \")\n",
    "\n",
    "month, day, year = date_str.split('/')\n",
    "\n",
    "months = [\"January\", \"February\", \"March\", \"April\", \"May\", \"June\", \"July\",\n",
    "          \"August\", \"September\", \"October\", \"November\", \"December\"]\n",
    "\n",
    "month_index = int(month) - 1\n",
    "\n",
    "month_name = months[month_index]\n",
    "\n",
    "print(f\"{month_name} {int(day)}, {year}\")"
   ]
  },
  {
   "cell_type": "markdown",
   "id": "9f26c405",
   "metadata": {},
   "source": [
    "7. Write a program with a function that accepts a string from keyboard and create a new string after \n",
    "converting character of each word capitalized. \n",
    "\n",
    "For instance, if the sentence is \"stop and smell the roses.\" the output should be \"Stop And Smell The Roses\" "
   ]
  },
  {
   "cell_type": "code",
   "execution_count": 17,
   "id": "129628d6",
   "metadata": {},
   "outputs": [
    {
     "name": "stdout",
     "output_type": "stream",
     "text": [
      "Converted String: Muhammad Yaseen\n"
     ]
    }
   ],
   "source": [
    "def capitalize_words(sentence):\n",
    "    return sentence.title()\n",
    "\n",
    "user_input = input(\"Enter a sentence: \")\n",
    "result = capitalize_words(user_input)\n",
    "\n",
    "print(\"Converted String:\", result)"
   ]
  },
  {
   "cell_type": "markdown",
   "id": "7fae34b2",
   "metadata": {},
   "source": [
    "8. Find the sum of each row of matrix of size m x n"
   ]
  },
  {
   "cell_type": "code",
   "execution_count": 18,
   "id": "d0122cc0",
   "metadata": {},
   "outputs": [
    {
     "name": "stdout",
     "output_type": "stream",
     "text": [
      "Sum of row 1 = 32\n",
      "Sum of row 2 = 31\n",
      "Sum of row 3 = 63\n"
     ]
    }
   ],
   "source": [
    "def row_sums(matrix):\n",
    "    for i in range(len(matrix)):\n",
    "        row_sum = sum(matrix[i])\n",
    "        print(f\"Sum of row {i+1} = {row_sum}\")\n",
    "\n",
    "matrix = [\n",
    "    [2, 11, 7, 12],\n",
    "    [5, 2, 9, 15],\n",
    "    [8, 3, 10, 42]\n",
    "]\n",
    "\n",
    "row_sums(matrix)"
   ]
  },
  {
   "cell_type": "markdown",
   "id": "9b9919db",
   "metadata": {},
   "source": [
    "9. Write a program to add two matrices of size n x m. \n"
   ]
  },
  {
   "cell_type": "code",
   "execution_count": 19,
   "id": "a90f96a1",
   "metadata": {},
   "outputs": [
    {
     "name": "stdout",
     "output_type": "stream",
     "text": [
      "Resultant Matrix after Addition:\n",
      "[10, 10, 10]\n",
      "[10, 10, 10]\n",
      "[10, 10, 10]\n"
     ]
    }
   ],
   "source": [
    "def add_matrices(A, B):\n",
    "    result = []\n",
    "    for i in range(len(A)):  \n",
    "        row = []\n",
    "        for j in range(len(A[0])):  \n",
    "            row.append(A[i][j] + B[i][j])\n",
    "        result.append(row)\n",
    "    return result\n",
    "\n",
    "A = [\n",
    "    [1, 2, 3],\n",
    "    [4, 5, 6],\n",
    "    [7, 8, 9]\n",
    "]\n",
    "\n",
    "B = [\n",
    "    [9, 8, 7],\n",
    "    [6, 5, 4],\n",
    "    [3, 2, 1]\n",
    "]\n",
    "\n",
    "C = add_matrices(A, B)\n",
    "\n",
    "print(\"Resultant Matrix after Addition:\")\n",
    "for row in C:\n",
    "    print(row)"
   ]
  },
  {
   "cell_type": "markdown",
   "id": "d5ee946b",
   "metadata": {},
   "source": []
  },
  {
   "cell_type": "code",
   "execution_count": 20,
   "id": "3aeeb81b",
   "metadata": {},
   "outputs": [
    {
     "name": "stdout",
     "output_type": "stream",
     "text": [
      "Resultant Matrix after Multiplication:\n",
      "[58, 64]\n",
      "[139, 154]\n"
     ]
    }
   ],
   "source": [
    "def multiply_matrices(A, B):\n",
    "    result = []\n",
    "    for i in range(len(A)):\n",
    "        row = []\n",
    "        for j in range(len(B[0])):\n",
    "            total = 0\n",
    "            for k in range(len(B)):\n",
    "                total += A[i][k] * B[k][j]\n",
    "            row.append(total)\n",
    "        result.append(row)\n",
    "    return result\n",
    "\n",
    "A = [\n",
    "    [1, 2, 3],\n",
    "    [4, 5, 6]\n",
    "]\n",
    "\n",
    "B = [\n",
    "    [7, 8],\n",
    "    [9, 10],\n",
    "    [11, 12]\n",
    "]\n",
    "\n",
    "C = multiply_matrices(A, B)\n",
    "\n",
    "print(\"Resultant Matrix after Multiplication:\")\n",
    "for row in C:\n",
    "    print(row)"
   ]
  }
 ],
 "metadata": {
  "kernelspec": {
   "display_name": "cloud-data-engineering",
   "language": "python",
   "name": "python3"
  },
  "language_info": {
   "codemirror_mode": {
    "name": "ipython",
    "version": 3
   },
   "file_extension": ".py",
   "mimetype": "text/x-python",
   "name": "python",
   "nbconvert_exporter": "python",
   "pygments_lexer": "ipython3",
   "version": "3.13.5"
  }
 },
 "nbformat": 4,
 "nbformat_minor": 5
}
