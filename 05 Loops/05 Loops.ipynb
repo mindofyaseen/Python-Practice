{
 "cells": [
  {
   "cell_type": "markdown",
   "id": "0bd05e7c",
   "metadata": {},
   "source": [
    "1. Write a Python program to print the numbers from 1 to 10 using a for loop. "
   ]
  },
  {
   "cell_type": "code",
   "execution_count": 2,
   "id": "e1d21a00",
   "metadata": {},
   "outputs": [
    {
     "name": "stdout",
     "output_type": "stream",
     "text": [
      "0\n",
      "1\n",
      "2\n",
      "3\n",
      "4\n",
      "5\n",
      "6\n",
      "7\n",
      "8\n",
      "9\n",
      "10\n"
     ]
    }
   ],
   "source": [
    "for i in range(0,11):\n",
    "    print(i)"
   ]
  },
  {
   "cell_type": "markdown",
   "id": "507647ff",
   "metadata": {},
   "source": [
    "2. Write a Python program to print the numbers from 20 to 1 using a while loop. "
   ]
  },
  {
   "cell_type": "code",
   "execution_count": 9,
   "id": "edfa3713",
   "metadata": {},
   "outputs": [
    {
     "name": "stdout",
     "output_type": "stream",
     "text": [
      "20\n",
      "19\n",
      "18\n",
      "17\n",
      "16\n",
      "15\n",
      "14\n",
      "13\n",
      "12\n",
      "11\n",
      "10\n",
      "9\n",
      "8\n",
      "7\n",
      "6\n",
      "5\n",
      "4\n",
      "3\n",
      "2\n",
      "1\n"
     ]
    }
   ],
   "source": [
    "num = 20\n",
    "\n",
    "while num > 0:\n",
    "    print(num)\n",
    "    num= num -1"
   ]
  },
  {
   "cell_type": "markdown",
   "id": "d6aa594e",
   "metadata": {},
   "source": [
    "3. Write a program to print even numbers from 1 to 10"
   ]
  },
  {
   "cell_type": "code",
   "execution_count": 11,
   "id": "feb5aa94",
   "metadata": {},
   "outputs": [
    {
     "name": "stdout",
     "output_type": "stream",
     "text": [
      "0\n",
      "2\n",
      "4\n",
      "6\n",
      "8\n",
      "10\n"
     ]
    }
   ],
   "source": [
    "for i in range(0,11,2):\n",
    "    print(i)"
   ]
  },
  {
   "cell_type": "markdown",
   "id": "0e1c6566",
   "metadata": {},
   "source": [
    "4. Write a program that prompts the user to enter a number n and prints all the \n",
    "numbers from 1 to n.  "
   ]
  },
  {
   "cell_type": "code",
   "execution_count": 13,
   "id": "8c4c635d",
   "metadata": {},
   "outputs": [
    {
     "name": "stdout",
     "output_type": "stream",
     "text": [
      "1\n",
      "2\n",
      "3\n",
      "4\n",
      "5\n"
     ]
    }
   ],
   "source": [
    "n = int(input(\"Enter the Number : \"))\n",
    "for i in range(1,n+1):\n",
    "    print(i)"
   ]
  },
  {
   "cell_type": "markdown",
   "id": "97406413",
   "metadata": {},
   "source": [
    "5. Write a program that prompts the user to enter a number n, and then prints all the \n",
    "odd numbers between 1 and n.  "
   ]
  },
  {
   "cell_type": "code",
   "execution_count": 15,
   "id": "01aa8645",
   "metadata": {},
   "outputs": [
    {
     "name": "stdout",
     "output_type": "stream",
     "text": [
      "1\n",
      "3\n",
      "5\n",
      "7\n",
      "9\n"
     ]
    }
   ],
   "source": [
    "n = int(input(\"Enter the Number : \"))\n",
    "\n",
    "for i in range(0,n):\n",
    "    if i % 2 != 0:\n",
    "        print(i)\n"
   ]
  },
  {
   "cell_type": "markdown",
   "id": "41a2d61c",
   "metadata": {},
   "source": [
    "6. Write a program that prints 'Happy Birthday!' five times on screen."
   ]
  },
  {
   "cell_type": "code",
   "execution_count": 16,
   "id": "fb6385d2",
   "metadata": {},
   "outputs": [
    {
     "name": "stdout",
     "output_type": "stream",
     "text": [
      "Happy Birthday\n",
      "Happy Birthday\n",
      "Happy Birthday\n",
      "Happy Birthday\n",
      "Happy Birthday\n"
     ]
    }
   ],
   "source": [
    "for i in range(0,5):\n",
    "    print(\"Happy Birthday\")"
   ]
  },
  {
   "cell_type": "markdown",
   "id": "3a931166",
   "metadata": {},
   "source": [
    "7. Write a program that takes a number n as input from the user and generates the first \n",
    "n terms of the series formed by squaring the natural numbers.\n",
    "\n",
    "Sample output \n",
    "\n",
    "Enter a number: 6 \n",
    "\n",
    "The first 6 terms of the series are: \n",
    "\n",
    "1 4 9 16 25 36 "
   ]
  },
  {
   "cell_type": "code",
   "execution_count": 18,
   "id": "57e559be",
   "metadata": {},
   "outputs": [
    {
     "name": "stdout",
     "output_type": "stream",
     "text": [
      "1\n",
      "4\n",
      "9\n",
      "16\n",
      "25\n",
      "36\n",
      "49\n",
      "64\n",
      "81\n",
      "100\n"
     ]
    }
   ],
   "source": [
    "n = int(input(\"Enter Any Number : \"))\n",
    "\n",
    "for i in range(1,n+1):\n",
    "    print(i**2)"
   ]
  },
  {
   "cell_type": "markdown",
   "id": "e2d766e2",
   "metadata": {},
   "source": [
    "8. Write a program that prompts the user to input a number and prints its multiplication \n",
    "table.  "
   ]
  },
  {
   "cell_type": "code",
   "execution_count": 21,
   "id": "9386441b",
   "metadata": {},
   "outputs": [
    {
     "name": "stdout",
     "output_type": "stream",
     "text": [
      "10 * 1 = 10\n",
      "10 * 2 = 20\n",
      "10 * 3 = 30\n",
      "10 * 4 = 40\n",
      "10 * 5 = 50\n",
      "10 * 6 = 60\n",
      "10 * 7 = 70\n",
      "10 * 8 = 80\n",
      "10 * 9 = 90\n",
      "10 * 10 = 100\n"
     ]
    }
   ],
   "source": [
    "n = int(input(\"Enter Any Number : \"))\n",
    "\n",
    "for i in range(1,11):\n",
    "    print(f\"{n} * {i} = {n*i}\")"
   ]
  },
  {
   "cell_type": "markdown",
   "id": "5f2241b3",
   "metadata": {},
   "source": [
    "9. Write a Python program to print the first 8 terms of an arithmetic progression starting \n",
    "with 3 and having a common difference of 4. \n",
    "\n",
    "The program should output the following sequence: \n",
    "\n",
    "3 7 11 15 19 23 27 31  "
   ]
  },
  {
   "cell_type": "code",
   "execution_count": 24,
   "id": "608147c0",
   "metadata": {},
   "outputs": [
    {
     "name": "stdout",
     "output_type": "stream",
     "text": [
      "3\n",
      "7\n",
      "11\n",
      "15\n",
      "19\n",
      "23\n",
      "27\n",
      "31\n"
     ]
    }
   ],
   "source": [
    "common_difference = 4\n",
    "start_num = 3\n",
    "terms = 8\n",
    "\n",
    "for i in range(0,terms):\n",
    "    print(start_num)\n",
    "    start_num += common_difference"
   ]
  },
  {
   "cell_type": "markdown",
   "id": "0243357c",
   "metadata": {},
   "source": [
    "10. Write a Python program to print the first 6 terms of a geometric sequence starting \n",
    "with 2 and having a common ratio of 3. \n",
    "\n",
    "The program should output the following sequence: \n",
    "\n",
    "2 6 18 54 162 486 "
   ]
  },
  {
   "cell_type": "code",
   "execution_count": 25,
   "id": "6718cb7f",
   "metadata": {},
   "outputs": [
    {
     "name": "stdout",
     "output_type": "stream",
     "text": [
      "2\n",
      "6\n",
      "18\n",
      "54\n",
      "162\n",
      "486\n"
     ]
    }
   ],
   "source": [
    "num = 2\n",
    "terms = 6\n",
    "common_ratio = 3\n",
    "\n",
    "for i in range(0,terms):\n",
    "    print(num)\n",
    "    num *= common_ratio "
   ]
  },
  {
   "cell_type": "markdown",
   "id": "cc28d737",
   "metadata": {},
   "source": [
    "11. Write a program that asks the user for a positive integer value. The program should \n",
    "calculate the sum of all the integers from 1 up to the number entered. \n",
    "\n",
    "For example, if the user enters 20, the loop will find the sum of 1, 2, 3, 4, ... 20.  "
   ]
  },
  {
   "cell_type": "code",
   "execution_count": 35,
   "id": "e885a4e4",
   "metadata": {},
   "outputs": [
    {
     "name": "stdout",
     "output_type": "stream",
     "text": [
      "210\n"
     ]
    }
   ],
   "source": [
    "n = int(input(\"Enter Any Positive Integer : \"))\n",
    "\n",
    "if n > 0:\n",
    "    for i in range(1,n):\n",
    "        n = n + i\n",
    "    print(n)\n",
    "else:\n",
    "    print(\"Please Enter the Value Which is Greater than 0\")"
   ]
  },
  {
   "cell_type": "markdown",
   "id": "ef0a7a82",
   "metadata": {},
   "source": [
    "12. write a program that takes a positive integer N as input and calculates the sum of \n",
    "the reciprocals of all numbers from 1 up to N. The program should display the final sum.\n",
    "\n",
    "Output of the program should be like: \n",
    "\n",
    "Enter a positive integer: 5 \n",
    "\n",
    "The sum of reciprocals from 1 to 5 is: 2.28"
   ]
  },
  {
   "cell_type": "code",
   "execution_count": 43,
   "id": "fd971286",
   "metadata": {},
   "outputs": [
    {
     "name": "stdout",
     "output_type": "stream",
     "text": [
      "2.083333333333333\n"
     ]
    }
   ],
   "source": [
    "n = int(input(\"Enter Any Positive Integer : \"))\n",
    "\n",
    "sum = 0\n",
    "if n > 0:\n",
    "    for i in range(1,n):\n",
    "        reciprocal = 1/i\n",
    "        sum += reciprocal\n",
    "    print(sum)\n",
    "else:\n",
    "    print(\"Please Enter the Value Which is Greater than 0\")"
   ]
  },
  {
   "cell_type": "markdown",
   "id": "4a0700da",
   "metadata": {},
   "source": [
    "13. Write a program that prompts the user to enter a number and repeats this process 5 \n",
    "times. The program should accumulate the numbers entered and then display the final \n",
    "running total. \n",
    "\n",
    "Sample Output: \n",
    "\n",
    "Enter a number: 10 \n",
    "\n",
    "Enter a number: 15 \n",
    "\n",
    "Enter a number: 35 \n",
    "\n",
    "Enter a number: 40 \n",
    "\n",
    "Enter a number: 50 \n",
    "\n",
    "The final running total is: 150   "
   ]
  },
  {
   "cell_type": "code",
   "execution_count": 53,
   "id": "f4ec32f8",
   "metadata": {},
   "outputs": [
    {
     "name": "stdout",
     "output_type": "stream",
     "text": [
      "150\n"
     ]
    }
   ],
   "source": [
    "n = 0\n",
    "sum = 0\n",
    "\n",
    "for i in range(0,5):\n",
    "    n = int(input(\"Enter any Number : \"))\n",
    "    sum = sum + n \n",
    "print(sum)"
   ]
  },
  {
   "cell_type": "markdown",
   "id": "ea936a42",
   "metadata": {},
   "source": [
    "14. Write a program that prompts the user to enter a positive integer and calculates its \n",
    "factorial. The factorial of a positive integer 'n' is denoted as 'n!' and is calculated by \n",
    "multiplying all the integers from 1 to 'n' together. \n",
    "\n",
    "For example, the factorial of 5 (denoted as 5!) is calculated as 1 x 2 x 3 x 4 x 5.\n",
    "\n",
    "The program should display the factorial value if the input is a positive number, or \n",
    "display a message stating that the factorial does not exist for negative numbers. \n",
    "Additionally, for an input of zero, the program should output that the factorial of 0 is 1.   "
   ]
  },
  {
   "cell_type": "code",
   "execution_count": 62,
   "id": "73698c1f",
   "metadata": {},
   "outputs": [
    {
     "name": "stdout",
     "output_type": "stream",
     "text": [
      "120\n"
     ]
    }
   ],
   "source": [
    "num = int(input('Enter Any Number : '))\n",
    "\n",
    "fact = 1\n",
    "if num > 0:\n",
    "    for i in range(1,num+1):\n",
    "        fact = fact * i\n",
    "    print(fact)\n",
    "elif num == 0:\n",
    "    print(\"The Factorial of 0 is 1\")\n",
    "else:\n",
    "    print(\"The Factorial Doesnot Exsists for the Negative Numbers\")"
   ]
  },
  {
   "cell_type": "markdown",
   "id": "97ffafb9",
   "metadata": {},
   "source": [
    "15. Write a Python program that prompts the user to enter a base number and an \n",
    "exponent, and then calculates the power of the base to the exponent. The program \n",
    "should not use the exponentiation operator (**) or the math.pow() function. The \n",
    "program should handle both positive and negative exponents.  "
   ]
  },
  {
   "cell_type": "code",
   "execution_count": 74,
   "id": "e2d6ce9f",
   "metadata": {},
   "outputs": [
    {
     "name": "stdout",
     "output_type": "stream",
     "text": [
      "125\n"
     ]
    }
   ],
   "source": [
    "base = int(input(\"Enter the Base : \"))\n",
    "exponent = int(input(\"Enter the Exponent : \"))\n",
    "\n",
    "number = 1\n",
    "\n",
    "for i in range(1,exponent+1):\n",
    "    number *= base\n",
    "print(number)"
   ]
  }
 ],
 "metadata": {
  "kernelspec": {
   "display_name": "cloud-data-engineering",
   "language": "python",
   "name": "python3"
  },
  "language_info": {
   "codemirror_mode": {
    "name": "ipython",
    "version": 3
   },
   "file_extension": ".py",
   "mimetype": "text/x-python",
   "name": "python",
   "nbconvert_exporter": "python",
   "pygments_lexer": "ipython3",
   "version": "3.13.5"
  }
 },
 "nbformat": 4,
 "nbformat_minor": 5
}
